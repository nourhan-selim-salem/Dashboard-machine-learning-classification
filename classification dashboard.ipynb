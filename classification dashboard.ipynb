{
 "cells": [
  {
   "cell_type": "code",
   "execution_count": 1,
   "id": "dd4ac87c",
   "metadata": {},
   "outputs": [],
   "source": [
    "import numpy as np\n",
    "import pandas as pd\n",
    "from os.path import join\n",
    "import plotly.express as px\n",
    "import dash\n",
    "import dash_core_components as dcc\n",
    "import dash_html_components as html\n",
    "from jupyter_dash import JupyterDash\n",
    "from dash.dependencies import Input,Output,State\n",
    "import dash_bootstrap_components as dbc\n",
    "import plotly.figure_factory as ff\n",
    "import plotly.graph_objects as go"
   ]
  },
  {
   "cell_type": "code",
   "execution_count": 2,
   "id": "5fea0fb9",
   "metadata": {},
   "outputs": [],
   "source": [
    "app = dash.Dash(external_stylesheets=[dbc.themes.YETI])"
   ]
  },
  {
   "cell_type": "code",
   "execution_count": 3,
   "id": "5e94eca3",
   "metadata": {},
   "outputs": [],
   "source": [
    "dataset_path = \"F:/AI-iti/challenge/bean/dataset\"\n",
    "df_train= pd.read_csv(join(dataset_path, 'train.csv'), index_col=\"ID\")\n",
    "target=list(df_train['y'].unique())"
   ]
  },
  {
   "cell_type": "code",
   "execution_count": 4,
   "id": "41c31c40",
   "metadata": {},
   "outputs": [
    {
     "data": {
      "text/html": [
       "<div>\n",
       "<style scoped>\n",
       "    .dataframe tbody tr th:only-of-type {\n",
       "        vertical-align: middle;\n",
       "    }\n",
       "\n",
       "    .dataframe tbody tr th {\n",
       "        vertical-align: top;\n",
       "    }\n",
       "\n",
       "    .dataframe thead th {\n",
       "        text-align: right;\n",
       "    }\n",
       "</style>\n",
       "<table border=\"1\" class=\"dataframe\">\n",
       "  <thead>\n",
       "    <tr style=\"text-align: right;\">\n",
       "      <th></th>\n",
       "      <th>Area</th>\n",
       "      <th>Perimeter</th>\n",
       "      <th>MajorAxisLength</th>\n",
       "      <th>MinorAxisLength</th>\n",
       "      <th>AspectRation</th>\n",
       "      <th>Eccentricity</th>\n",
       "      <th>ConvexArea</th>\n",
       "      <th>EquivDiameter</th>\n",
       "      <th>Extent</th>\n",
       "      <th>Solidity</th>\n",
       "      <th>roundness</th>\n",
       "      <th>Compactness</th>\n",
       "      <th>ShapeFactor1</th>\n",
       "      <th>ShapeFactor2</th>\n",
       "      <th>ShapeFactor3</th>\n",
       "      <th>ShapeFactor4</th>\n",
       "      <th>y</th>\n",
       "    </tr>\n",
       "    <tr>\n",
       "      <th>ID</th>\n",
       "      <th></th>\n",
       "      <th></th>\n",
       "      <th></th>\n",
       "      <th></th>\n",
       "      <th></th>\n",
       "      <th></th>\n",
       "      <th></th>\n",
       "      <th></th>\n",
       "      <th></th>\n",
       "      <th></th>\n",
       "      <th></th>\n",
       "      <th></th>\n",
       "      <th></th>\n",
       "      <th></th>\n",
       "      <th></th>\n",
       "      <th></th>\n",
       "      <th></th>\n",
       "    </tr>\n",
       "  </thead>\n",
       "  <tbody>\n",
       "    <tr>\n",
       "      <th>0</th>\n",
       "      <td>58238</td>\n",
       "      <td>971.303</td>\n",
       "      <td>397.202654</td>\n",
       "      <td>186.945510</td>\n",
       "      <td>2.124697</td>\n",
       "      <td>0.882317</td>\n",
       "      <td>58977</td>\n",
       "      <td>272.306674</td>\n",
       "      <td>0.604756</td>\n",
       "      <td>0.987470</td>\n",
       "      <td>0.775723</td>\n",
       "      <td>0.685561</td>\n",
       "      <td>0.006820</td>\n",
       "      <td>0.000929</td>\n",
       "      <td>0.469994</td>\n",
       "      <td>0.998595</td>\n",
       "      <td>HOROZ</td>\n",
       "    </tr>\n",
       "    <tr>\n",
       "      <th>1</th>\n",
       "      <td>44515</td>\n",
       "      <td>757.601</td>\n",
       "      <td>265.590470</td>\n",
       "      <td>213.967453</td>\n",
       "      <td>1.241266</td>\n",
       "      <td>0.592420</td>\n",
       "      <td>44780</td>\n",
       "      <td>238.071960</td>\n",
       "      <td>0.771745</td>\n",
       "      <td>0.994082</td>\n",
       "      <td>0.974620</td>\n",
       "      <td>0.896387</td>\n",
       "      <td>0.005966</td>\n",
       "      <td>0.002376</td>\n",
       "      <td>0.803510</td>\n",
       "      <td>0.997370</td>\n",
       "      <td>SEKER</td>\n",
       "    </tr>\n",
       "    <tr>\n",
       "      <th>2</th>\n",
       "      <td>31662</td>\n",
       "      <td>653.783</td>\n",
       "      <td>239.902428</td>\n",
       "      <td>168.421505</td>\n",
       "      <td>1.424417</td>\n",
       "      <td>0.712136</td>\n",
       "      <td>32034</td>\n",
       "      <td>200.781748</td>\n",
       "      <td>0.801407</td>\n",
       "      <td>0.988387</td>\n",
       "      <td>0.930853</td>\n",
       "      <td>0.836931</td>\n",
       "      <td>0.007577</td>\n",
       "      <td>0.002293</td>\n",
       "      <td>0.700453</td>\n",
       "      <td>0.997737</td>\n",
       "      <td>DERMASON</td>\n",
       "    </tr>\n",
       "    <tr>\n",
       "      <th>3</th>\n",
       "      <td>38778</td>\n",
       "      <td>734.020</td>\n",
       "      <td>268.446281</td>\n",
       "      <td>184.061923</td>\n",
       "      <td>1.458456</td>\n",
       "      <td>0.727925</td>\n",
       "      <td>39208</td>\n",
       "      <td>222.201897</td>\n",
       "      <td>0.766137</td>\n",
       "      <td>0.989033</td>\n",
       "      <td>0.904439</td>\n",
       "      <td>0.827733</td>\n",
       "      <td>0.006923</td>\n",
       "      <td>0.002005</td>\n",
       "      <td>0.685142</td>\n",
       "      <td>0.999250</td>\n",
       "      <td>DERMASON</td>\n",
       "    </tr>\n",
       "    <tr>\n",
       "      <th>4</th>\n",
       "      <td>42530</td>\n",
       "      <td>775.403</td>\n",
       "      <td>281.212824</td>\n",
       "      <td>193.236878</td>\n",
       "      <td>1.455275</td>\n",
       "      <td>0.726511</td>\n",
       "      <td>43028</td>\n",
       "      <td>232.703412</td>\n",
       "      <td>0.729816</td>\n",
       "      <td>0.988426</td>\n",
       "      <td>0.888895</td>\n",
       "      <td>0.827499</td>\n",
       "      <td>0.006612</td>\n",
       "      <td>0.001912</td>\n",
       "      <td>0.684755</td>\n",
       "      <td>0.996507</td>\n",
       "      <td>SIRA</td>\n",
       "    </tr>\n",
       "  </tbody>\n",
       "</table>\n",
       "</div>"
      ],
      "text/plain": [
       "     Area  Perimeter  MajorAxisLength  MinorAxisLength  AspectRation  \\\n",
       "ID                                                                     \n",
       "0   58238    971.303       397.202654       186.945510      2.124697   \n",
       "1   44515    757.601       265.590470       213.967453      1.241266   \n",
       "2   31662    653.783       239.902428       168.421505      1.424417   \n",
       "3   38778    734.020       268.446281       184.061923      1.458456   \n",
       "4   42530    775.403       281.212824       193.236878      1.455275   \n",
       "\n",
       "    Eccentricity  ConvexArea  EquivDiameter    Extent  Solidity  roundness  \\\n",
       "ID                                                                           \n",
       "0       0.882317       58977     272.306674  0.604756  0.987470   0.775723   \n",
       "1       0.592420       44780     238.071960  0.771745  0.994082   0.974620   \n",
       "2       0.712136       32034     200.781748  0.801407  0.988387   0.930853   \n",
       "3       0.727925       39208     222.201897  0.766137  0.989033   0.904439   \n",
       "4       0.726511       43028     232.703412  0.729816  0.988426   0.888895   \n",
       "\n",
       "    Compactness  ShapeFactor1  ShapeFactor2  ShapeFactor3  ShapeFactor4  \\\n",
       "ID                                                                        \n",
       "0      0.685561      0.006820      0.000929      0.469994      0.998595   \n",
       "1      0.896387      0.005966      0.002376      0.803510      0.997370   \n",
       "2      0.836931      0.007577      0.002293      0.700453      0.997737   \n",
       "3      0.827733      0.006923      0.002005      0.685142      0.999250   \n",
       "4      0.827499      0.006612      0.001912      0.684755      0.996507   \n",
       "\n",
       "           y  \n",
       "ID            \n",
       "0      HOROZ  \n",
       "1      SEKER  \n",
       "2   DERMASON  \n",
       "3   DERMASON  \n",
       "4       SIRA  "
      ]
     },
     "execution_count": 4,
     "metadata": {},
     "output_type": "execute_result"
    }
   ],
   "source": [
    "df_train.head()"
   ]
  },
  {
   "cell_type": "code",
   "execution_count": 5,
   "id": "1c572067",
   "metadata": {},
   "outputs": [],
   "source": [
    "# plt.figure(figsize=(8,3))\n",
    "# df_train['y'].value_counts().sort_values().tail(7).plot(kind='barh', fontsize=12)\n",
    "# plt.title(\"Distributioin of Target variable 'Class'\")"
   ]
  },
  {
   "cell_type": "code",
   "execution_count": 6,
   "id": "30bc7d64",
   "metadata": {},
   "outputs": [],
   "source": [
    "df=df_train['y'].value_counts().sort_values().to_frame().reset_index()"
   ]
  },
  {
   "cell_type": "markdown",
   "id": "1fa28687",
   "metadata": {},
   "source": [
    "## figures"
   ]
  },
  {
   "cell_type": "markdown",
   "id": "c6e31147",
   "metadata": {},
   "source": [
    "### bar plot"
   ]
  },
  {
   "cell_type": "code",
   "execution_count": 7,
   "id": "d37093c8",
   "metadata": {},
   "outputs": [],
   "source": [
    "def bar_count():\n",
    "    fig1=px.bar(df, x='y', y='index',title=\"Distributioin of Target Class\",\n",
    "               template='seaborn',orientation='h',text='y',\n",
    "               labels= {'index': \" \",'y':'count'})\n",
    "    fig1.update_traces(texttemplate='%{text}', textposition='outside',textfont_size=14)\n",
    "    fig1.update_layout(yaxis = dict(tickfont = dict(size=14)))\n",
    "    return fig1 "
   ]
  },
  {
   "cell_type": "markdown",
   "id": "c281706e",
   "metadata": {},
   "source": [
    "### box plot"
   ]
  },
  {
   "cell_type": "code",
   "execution_count": 8,
   "id": "72814ec9",
   "metadata": {},
   "outputs": [],
   "source": [
    "def box_plot():   \n",
    "    fig2= px.box(df_train, x=df_train.iloc[:,-1], y=df_train.iloc[:,0],\n",
    "               template='seaborn',labels= {'x': \" \",'y':df_train.columns[0]}\n",
    "               )\n",
    "    # fig2.update_traces(texttemplate='%{text}', textposition='outside',textfont_size=14)\n",
    "    fig2.update_layout(font = dict(size=14))\n",
    "    return fig2"
   ]
  },
  {
   "cell_type": "markdown",
   "id": "d4ea5b60",
   "metadata": {},
   "source": [
    "### Distribution"
   ]
  },
  {
   "cell_type": "code",
   "execution_count": 9,
   "id": "b2194700",
   "metadata": {},
   "outputs": [],
   "source": [
    "def dist():\n",
    "    group_labels=['Area']\n",
    "    fig3=ff.create_distplot([list(df_train.iloc[:,0])],group_labels, \n",
    "                             show_rug=False, #rug \n",
    "                             show_hist=False, #hist\n",
    "                             show_curve=True) # curve \n",
    "    return fig3"
   ]
  },
  {
   "cell_type": "markdown",
   "id": "edac9836",
   "metadata": {},
   "source": [
    "### heat map"
   ]
  },
  {
   "cell_type": "code",
   "execution_count": 10,
   "id": "6731c5f3",
   "metadata": {},
   "outputs": [],
   "source": [
    "corr = df_train.iloc[:,1:].corr()\n",
    "mask = np.triu(np.ones_like(corr, dtype=np.bool))\n",
    "df_mask = corr.mask(mask).round(3)\n",
    "\n",
    "def heat_map():\n",
    "    fig = ff.create_annotated_heatmap(z=df_mask.to_numpy(), \n",
    "                                      x=df_mask.columns.tolist(),\n",
    "                                      y=df_mask.columns.tolist(),\n",
    "                                      colorscale=px.colors.diverging.RdBu_r,\n",
    "    #                                   hoverinfo=\"none\", #Shows hoverinfo for null values\n",
    "                                      showscale=True, ygap=1, xgap=1\n",
    "                                     )\n",
    "\n",
    "    fig.update_xaxes(side=\"bottom\")\n",
    "\n",
    "    fig.update_layout(\n",
    "        title_text='Heatmap', \n",
    "        title_x=0.5, \n",
    "    #     width=1000, \n",
    "    #     height=1000,\n",
    "        xaxis_showgrid=False,\n",
    "        yaxis_showgrid=False,\n",
    "        xaxis_zeroline=False,\n",
    "        yaxis_zeroline=False,\n",
    "        yaxis_autorange='reversed',\n",
    "        template='plotly_white'\n",
    "    )\n",
    "\n",
    "    # NaN values are not handled automatically and are displayed in the figure\n",
    "    # So we need to get rid of the text manually\n",
    "    for i in range(len(fig.layout.annotations)):\n",
    "        if fig.layout.annotations[i].text == 'nan':\n",
    "            fig.layout.annotations[i].text = \"\"\n",
    "\n",
    "    return fig"
   ]
  },
  {
   "cell_type": "markdown",
   "id": "4bded953",
   "metadata": {},
   "source": [
    "# check list"
   ]
  },
  {
   "cell_type": "code",
   "execution_count": 11,
   "id": "a37979c0",
   "metadata": {},
   "outputs": [],
   "source": [
    "checkall=dbc.Checklist(id=\"all-or-none\",\n",
    "        style={'font-size':'20px','font-weight': 'bold'},\n",
    "        options=[{\"label\":'All Parameters', \"value\": 'all'} ],\n",
    "        value=[],\n",
    "        labelStyle={\"display\": \"inline-block\"},\n",
    "        )\n",
    "\n",
    "checkList=dbc.Checklist(id=\"checklist\",\n",
    "        options=[{\"label\": i, \"value\": i} for i in list(df_train.columns[:-1])],\n",
    "        value=[],\n",
    "        labelStyle={\"display\": \"inline-block\"},                \n",
    "        )\n"
   ]
  },
  {
   "cell_type": "markdown",
   "id": "1c241b43",
   "metadata": {},
   "source": [
    "# side bar"
   ]
  },
  {
   "cell_type": "code",
   "execution_count": 12,
   "id": "6a0ebe64",
   "metadata": {},
   "outputs": [],
   "source": [
    "side_bar = dbc.Card(\n",
    "    dbc.CardBody(\n",
    "        [\n",
    "            dbc.Container(checkall),\n",
    "            dbc.Container(checkList),\n",
    "        ]\n",
    "    ),\n",
    "    className=\"mt-3\",\n",
    "    style={\"background-color\": \"#f8f9fa\",\"width\": \"15rem\",}\n",
    ")"
   ]
  },
  {
   "cell_type": "markdown",
   "id": "26436372",
   "metadata": {},
   "source": [
    "# pans"
   ]
  },
  {
   "cell_type": "code",
   "execution_count": 13,
   "id": "2244decb",
   "metadata": {},
   "outputs": [],
   "source": [
    " # Card components\n",
    "pans = [\n",
    "    dbc.Card(\n",
    "        [\n",
    "         html.H2(1234568, style={'color':'#017A97','text-align':'center','font-size': '40px', 'font-weight': 'bold'}),\n",
    "         html.H3(\"Total Cases\", className=\"card-text\",\n",
    "                 style={'color':'#017A97','text-align':'center','font-size': '40px'}),\n",
    "        ],\n",
    "        style={'background-color':'#B5D7E0'}, \n",
    "    ),\n",
    "    \n",
    "    \n",
    "    dbc.Card(\n",
    "    [\n",
    "        html.H2(1234568, style={'color':'#686868','text-align':'center','font-size': '40px','font-weight': 'bold'}),\n",
    "        html.H3(\"Deaths\", className=\"card-text\",\n",
    "                style={'color':'#686868','text-align':'center','font-size': '40px'}),\n",
    "    ],\n",
    "        style={'background-color':'#D3D3D3'}, \n",
    "),\n",
    "    \n",
    "    dbc.Card(\n",
    "    [\n",
    "        html.H2(1234568, style={'color':'#686868','text-align':'center','font-size': '40px','font-weight': 'bold'}),\n",
    "        html.H3(\"Deaths\", className=\"card-text\",\n",
    "                style={'color':'#686868','text-align':'center','font-size': '40px'}),\n",
    "    ],\n",
    "        style={'background-color':'#D3D3D3'}, \n",
    "),\n",
    "]"
   ]
  },
  {
   "cell_type": "markdown",
   "id": "4617638d",
   "metadata": {},
   "source": [
    "# navigator"
   ]
  },
  {
   "cell_type": "code",
   "execution_count": 14,
   "id": "556efcc2",
   "metadata": {},
   "outputs": [],
   "source": [
    "SIDEBAR_STYLE = {\n",
    "    \"position\": \"fixed\",\n",
    "    \"top\": 80,\n",
    "    \"left\": 0,\n",
    "    \"bottom\": 0,\n",
    "    \"width\": \"12rem\",\n",
    "    \"padding\": \"2rem 1rem\",\n",
    "    \"background-color\": \"#f8f9fa\",\n",
    "}\n",
    "\n",
    "nav = dbc.Nav(\n",
    "    [\n",
    "        dbc.NavItem(dbc.NavLink(\"Active\")),\n",
    "        dbc.NavItem(dbc.NavLink(\"A link\")),\n",
    "        dbc.NavItem(dbc.NavLink(\"Another link\")),\n",
    "        dbc.NavItem(dbc.NavLink(\"Disabled\")),\n",
    "    ],\n",
    "    vertical=True, \n",
    "    style=SIDEBAR_STYLE,\n",
    ")"
   ]
  },
  {
   "cell_type": "markdown",
   "id": "783d102e",
   "metadata": {},
   "source": [
    "# callback"
   ]
  },
  {
   "cell_type": "code",
   "execution_count": 15,
   "id": "443d9843",
   "metadata": {},
   "outputs": [],
   "source": [
    "@app.callback(\n",
    "    Output(\"checklist\",'value'),\n",
    "    [Input(\"all-or-none\",'value')],\n",
    "    [State(\"checklist\", \"options\")],\n",
    ")\n",
    "\n",
    "def select_all_none(all_selected, options):\n",
    "    all_or_none = []\n",
    "    all_or_none = [option[\"value\"] for option in options if all_selected]\n",
    "    return all_or_none"
   ]
  },
  {
   "cell_type": "markdown",
   "id": "2f6b1193",
   "metadata": {},
   "source": [
    "# tabs"
   ]
  },
  {
   "cell_type": "code",
   "execution_count": 16,
   "id": "4d854b9c",
   "metadata": {},
   "outputs": [],
   "source": [
    "tab1_content = dbc.Card(\n",
    "    dbc.CardBody(\n",
    "        [\n",
    "#             html.P(\"Data Distribution\", className=\"card-text\"),\n",
    "#             dcc.Graph(figure=bar_count()),\n",
    "        ]\n",
    "    ),\n",
    "    className=\"mt-3\",\n",
    ")"
   ]
  },
  {
   "cell_type": "code",
   "execution_count": 17,
   "id": "93d920d8",
   "metadata": {},
   "outputs": [],
   "source": [
    "tabs = dbc.Tabs(\n",
    "    [\n",
    "        dbc.Tab(label=\"Data Distribution\",),\n",
    "        \n",
    "        dbc.Tab(label=\"Compare Algorithms\",),\n",
    "        \n",
    "\n",
    "    ]\n",
    ")"
   ]
  },
  {
   "cell_type": "markdown",
   "id": "e5833e02",
   "metadata": {},
   "source": [
    "# layout"
   ]
  },
  {
   "cell_type": "code",
   "execution_count": 18,
   "id": "f2620373",
   "metadata": {},
   "outputs": [],
   "source": [
    "app.layout = dbc.Container(  \n",
    "[\n",
    "    dbc.Row(\n",
    "            dbc.Col(html.H1(\"Dry Bean Classification\",\n",
    "                     style={'color':\"white\",'text-align':'center',\n",
    "                            'font-size': '40px', 'font-weight': 'bold'}),\n",
    "                            width={\"size\": 6, \"offset\": 3}),\n",
    "           style= {'background-color':'#017A97'}\n",
    "               ),\n",
    "         tabs,\n",
    "    dbc.Row([\n",
    "       dbc.Col(side_bar),\n",
    "       dbc.Col(dcc.Graph(figure=bar_count())),\n",
    "       dbc.Col(dcc.Graph(figure=heat_map())),\n",
    "    ])\n",
    "           \n",
    "           \n",
    "          \n",
    "#         dbc.Row([dbc.Col(pan) for pan in pans])   \n",
    "       ])"
   ]
  },
  {
   "cell_type": "markdown",
   "id": "2c90855e",
   "metadata": {},
   "source": [
    "# app run"
   ]
  },
  {
   "cell_type": "code",
   "execution_count": 19,
   "id": "85af1db6",
   "metadata": {},
   "outputs": [
    {
     "name": "stdout",
     "output_type": "stream",
     "text": [
      "Dash is running on http://127.0.0.1:8050/\n",
      "\n",
      " * Serving Flask app \"__main__\" (lazy loading)\n",
      " * Environment: production\n",
      "\u001b[31m   WARNING: This is a development server. Do not use it in a production deployment.\u001b[0m\n",
      "\u001b[2m   Use a production WSGI server instead.\u001b[0m\n",
      " * Debug mode: off\n"
     ]
    },
    {
     "name": "stderr",
     "output_type": "stream",
     "text": [
      " * Running on http://127.0.0.1:8050/ (Press CTRL+C to quit)\n",
      "127.0.0.1 - - [01/Nov/2021 01:12:37] \"GET / HTTP/1.1\" 200 -\n",
      "127.0.0.1 - - [01/Nov/2021 01:12:37] \"GET /_dash-component-suites/dash_renderer/react@16.v1_1_2m1576595738.8.6.min.js HTTP/1.1\" 200 -\n",
      "127.0.0.1 - - [01/Nov/2021 01:12:37] \"GET /_dash-component-suites/dash_renderer/prop-types@15.v1_1_2m1576595738.7.2.min.js HTTP/1.1\" 200 -\n",
      "127.0.0.1 - - [01/Nov/2021 01:12:37] \"GET /_dash-component-suites/dash_renderer/react-dom@16.v1_1_2m1576595738.8.6.min.js HTTP/1.1\" 200 -\n",
      "127.0.0.1 - - [01/Nov/2021 01:12:37] \"GET /_dash-component-suites/dash_html_components/dash_html_components.v1_0_1m1576596177.min.js HTTP/1.1\" 200 -\n",
      "127.0.0.1 - - [01/Nov/2021 01:12:37] \"GET /_dash-component-suites/dash_core_components/highlight.v1_3_1m1576595950.pack.js HTTP/1.1\" 200 -\n",
      "127.0.0.1 - - [01/Nov/2021 01:12:37] \"GET /_dash-component-suites/dash_bootstrap_components/_components/dash_bootstrap_components.v0_8_3m1583589381.min.js HTTP/1.1\" 200 -\n",
      "127.0.0.1 - - [01/Nov/2021 01:12:37] \"GET /_dash-component-suites/dash_renderer/dash_renderer.v1_1_2m1576595738.min.js HTTP/1.1\" 200 -\n",
      "127.0.0.1 - - [01/Nov/2021 01:12:37] \"GET /_dash-component-suites/dash_core_components/dash_core_components.v1_3_1m1576595950.min.js HTTP/1.1\" 200 -\n",
      "127.0.0.1 - - [01/Nov/2021 01:12:37] \"GET /_dash-component-suites/dash_core_components/plotly-1.v1_3_1m1576595950.50.1.min.js HTTP/1.1\" 200 -\n",
      "127.0.0.1 - - [01/Nov/2021 01:12:38] \"GET /_dash-dependencies HTTP/1.1\" 200 -\n",
      "127.0.0.1 - - [01/Nov/2021 01:12:38] \"GET /_dash-layout HTTP/1.1\" 200 -\n",
      "127.0.0.1 - - [01/Nov/2021 01:12:38] \"POST /_dash-update-component HTTP/1.1\" 200 -\n"
     ]
    }
   ],
   "source": [
    "app.run_server()"
   ]
  },
  {
   "cell_type": "code",
   "execution_count": null,
   "id": "1f62104f",
   "metadata": {},
   "outputs": [],
   "source": []
  },
  {
   "cell_type": "code",
   "execution_count": null,
   "id": "3636d0a5",
   "metadata": {},
   "outputs": [],
   "source": []
  }
 ],
 "metadata": {
  "jupytext": {
   "formats": "ipynb,py:percent"
  },
  "kernelspec": {
   "display_name": "Python 3 (ipykernel)",
   "language": "python",
   "name": "python3"
  },
  "language_info": {
   "codemirror_mode": {
    "name": "ipython",
    "version": 3
   },
   "file_extension": ".py",
   "mimetype": "text/x-python",
   "name": "python",
   "nbconvert_exporter": "python",
   "pygments_lexer": "ipython3",
   "version": "3.7.11"
  },
  "toc": {
   "base_numbering": 1,
   "nav_menu": {},
   "number_sections": false,
   "sideBar": true,
   "skip_h1_title": false,
   "title_cell": "Table of Contents",
   "title_sidebar": "Contents",
   "toc_cell": false,
   "toc_position": {
    "height": "calc(100% - 180px)",
    "left": "10px",
    "top": "150px",
    "width": "250.433px"
   },
   "toc_section_display": true,
   "toc_window_display": true
  },
  "varInspector": {
   "cols": {
    "lenName": 16,
    "lenType": 16,
    "lenVar": 40
   },
   "kernels_config": {
    "python": {
     "delete_cmd_postfix": "",
     "delete_cmd_prefix": "del ",
     "library": "var_list.py",
     "varRefreshCmd": "print(var_dic_list())"
    },
    "r": {
     "delete_cmd_postfix": ") ",
     "delete_cmd_prefix": "rm(",
     "library": "var_list.r",
     "varRefreshCmd": "cat(var_dic_list()) "
    }
   },
   "types_to_exclude": [
    "module",
    "function",
    "builtin_function_or_method",
    "instance",
    "_Feature"
   ],
   "window_display": true
  }
 },
 "nbformat": 4,
 "nbformat_minor": 5
}
